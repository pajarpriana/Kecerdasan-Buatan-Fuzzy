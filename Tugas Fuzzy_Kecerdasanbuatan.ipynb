{
 "cells": [
  {
   "cell_type": "markdown",
   "id": "3a6b58fd-5e55-4561-a08f-221f4cc784c1",
   "metadata": {},
   "source": [
    "### Soal Latihan"
   ]
  },
  {
   "cell_type": "markdown",
   "id": "9d41471b-cb50-467b-8b1e-4020e01481b2",
   "metadata": {},
   "source": [
    "1. Buat Implementasi dengan menggunakan python untuk menghitung Fuzzy Inference System berikut dengan metode tsukamoto"
   ]
  },
  {
   "cell_type": "code",
   "execution_count": null,
   "id": "47d7784c-dc32-41aa-8a82-33ecf6c91e95",
   "metadata": {},
   "outputs": [],
   "source": []
  },
  {
   "cell_type": "markdown",
   "id": "7de37613-ef49-4a94-9512-dd853841f095",
   "metadata": {},
   "source": [
    "Rule:\n",
    "- Jika Permintaan **Turun** dan Persediaan **Sedikit** maka produksi **Bertambah**\n",
    "- Jika Permintaan **Turun** dan Persediaan **Sedang** maka produksi **Berkurang**\n",
    "- Jika Permintaan **Turun** dan Persediaan **Banyak** maka produksi **Berkurang**\n",
    "- Jika Permintaan **Tetap** dan Persediaan **Sedikit** maka produksi **Bertambah**\n",
    "- Jika Permintaan **Tetap** dan Persediaan **Sedang** maka produksi **Berkurang**\n",
    "- Jika Permintaan **Tetap** dan Persediaan **Banyak** maka produksi **Berkurang**\n",
    "- Jika Permintaan **Naik** dan Persediaan **Sedikit** maka produksi **Bertambah**\n",
    "- Jika Permintaan **Naik** dan Persediaan **Sedang** maka produksi **Bertambah**\n",
    "- Jika Permintaan **Naik** dan Persediaan **Banyak** maka produksi **Berkurang**"
   ]
  },
  {
   "cell_type": "markdown",
   "id": "64b58d73-1643-4aa1-86de-0df35f05b683",
   "metadata": {},
   "source": [
    "2. Buat Slide yang berisikan contoh penghitungan manual dari soal diatas!"
   ]
  },
  {
   "cell_type": "code",
   "execution_count": 4,
   "id": "d8e9b68f-de64-4c74-b47e-b16588567172",
   "metadata": {},
   "outputs": [
    {
     "name": "stdout",
     "output_type": "stream",
     "text": [
      "Produksi yang dihasilkan: 4000.00\n"
     ]
    }
   ],
   "source": [
    "import numpy as np\n",
    "\n",
    "# Membership functions\n",
    "def permintaan_turun(x):\n",
    "    return max(0, min(1, (3000 - x) / 2000))  # Nilai maksimal di 3000, turun dari sana\n",
    "\n",
    "def permintaan_tetap(x):\n",
    "    return max(0, min((x - 1000) / 2000, (5000 - x) / 2000))  # Puncak di 3000, turun ke 1000 & 5000\n",
    "\n",
    "def permintaan_naik(x):\n",
    "    return max(0, min((x - 3000) / 2000, 1))  # Nilai minimal di 3000, naik dari sana\n",
    "\n",
    "def persediaan_sedikit(x):\n",
    "    return max(0, min(1, (400 - x) / 400))  # Nilai maksimal di 400, turun dari sana\n",
    "\n",
    "def persediaan_sedang(x):\n",
    "    return max(0, min((x - 200) / 200, (800 - x) / 200))  # Puncak di 400-600, turun di kedua sisi\n",
    "\n",
    "def persediaan_banyak(x):\n",
    "    return max(0, min((x - 600) / 400, 1))  # Nilai minimal di 600, naik dari sana\n",
    "\n",
    "def produksi_berkurang(z):\n",
    "    return max(0, min(1, (8000 - z) / 5000))  # Nilai maksimal di 8000, turun dari sana\n",
    "\n",
    "def produksi_bertambah(z):\n",
    "    return max(0, min((z - 3000) / 5000, 1))  # Nilai minimal di 3000, naik dari sana\n",
    "\n",
    "# Rule evaluation\n",
    "def inferensi(permintaan, persediaan):\n",
    "    rules = []\n",
    "    # Rule 1\n",
    "    alpha1 = min(permintaan_turun(permintaan), persediaan_sedikit(persediaan))\n",
    "    z1 = 3000 + alpha1 * (7000 - 3000)  # Produksi Bertambah\n",
    "    rules.append((alpha1, z1))\n",
    "    \n",
    "    # Rule 2\n",
    "    alpha2 = min(permintaan_turun(permintaan), persediaan_sedang(persediaan))\n",
    "    z2 = 7000 - alpha2 * (7000 - 3000)  # Produksi Berkurang\n",
    "    rules.append((alpha2, z2))\n",
    "    \n",
    "    # Rule 3\n",
    "    alpha3 = min(permintaan_turun(permintaan), persediaan_banyak(persediaan))\n",
    "    z3 = 7000 - alpha3 * (7000 - 3000)  # Produksi Berkurang\n",
    "    rules.append((alpha3, z3))\n",
    "    \n",
    "    # Rule 4\n",
    "    alpha4 = min(permintaan_tetap(permintaan), persediaan_sedikit(persediaan))\n",
    "    z4 = 3000 + alpha4 * (7000 - 3000)  # Produksi Bertambah\n",
    "    rules.append((alpha4, z4))\n",
    "    \n",
    "    # Rule 5\n",
    "    alpha5 = min(permintaan_tetap(permintaan), persediaan_sedang(persediaan))\n",
    "    z5 = 7000 - alpha5 * (7000 - 3000)  # Produksi Berkurang\n",
    "    rules.append((alpha5, z5))\n",
    "    \n",
    "    # Rule 6\n",
    "    alpha6 = min(permintaan_tetap(permintaan), persediaan_banyak(persediaan))\n",
    "    z6 = 7000 - alpha6 * (7000 - 3000)  # Produksi Berkurang\n",
    "    rules.append((alpha6, z6))\n",
    "    \n",
    "    # Rule 7\n",
    "    alpha7 = min(permintaan_naik(permintaan), persediaan_sedikit(persediaan))\n",
    "    z7 = 3000 + alpha7 * (7000 - 3000)  # Produksi Bertambah\n",
    "    rules.append((alpha7, z7))\n",
    "    \n",
    "    # Rule 8\n",
    "    alpha8 = min(permintaan_naik(permintaan), persediaan_sedang(persediaan))\n",
    "    z8 = 3000 + alpha8 * (7000 - 3000)  # Produksi Bertambah\n",
    "    rules.append((alpha8, z8))\n",
    "    \n",
    "    # Rule 9\n",
    "    alpha9 = min(permintaan_naik(permintaan), persediaan_banyak(persediaan))\n",
    "    z9 = 7000 - alpha9 * (7000 - 3000)  # Produksi Berkurang\n",
    "    rules.append((alpha9, z9))\n",
    "    \n",
    "    return rules\n",
    "\n",
    "# Defuzzification\n",
    "def defuzzifikasi(rules):\n",
    "    numerator = sum(alpha * z for alpha, z in rules)\n",
    "    denominator = sum(alpha for alpha, _ in rules)\n",
    "    return numerator / denominator if denominator != 0 else 0\n",
    "\n",
    "# Main function\n",
    "def fuzzy_tsukamoto(permintaan, persediaan):\n",
    "    rules = inferensi(permintaan, persediaan)\n",
    "    return defuzzifikasi(rules)\n",
    "\n",
    "# Example usage\n",
    "permintaan_input = 3500  # Contoh input permintaan\n",
    "persediaan_input = 500   # Contoh input persediaan\n",
    "\n",
    "produksi = fuzzy_tsukamoto(permintaan_input, persediaan_input)\n",
    "print(f\"Produksi yang dihasilkan: {produksi:.2f}\")\n",
    "\n"
   ]
  },
  {
   "cell_type": "code",
   "execution_count": null,
   "id": "824de510-b099-4e93-9585-a1266e733b90",
   "metadata": {},
   "outputs": [],
   "source": []
  }
 ],
 "metadata": {
  "kernelspec": {
   "display_name": "Python 3 (ipykernel)",
   "language": "python",
   "name": "python3"
  },
  "language_info": {
   "codemirror_mode": {
    "name": "ipython",
    "version": 3
   },
   "file_extension": ".py",
   "mimetype": "text/x-python",
   "name": "python",
   "nbconvert_exporter": "python",
   "pygments_lexer": "ipython3",
   "version": "3.12.6"
  }
 },
 "nbformat": 4,
 "nbformat_minor": 5
}
